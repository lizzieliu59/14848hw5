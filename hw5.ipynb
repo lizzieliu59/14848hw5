{
 "cells": [
  {
   "cell_type": "code",
   "execution_count": 1,
   "id": "1d11b45a",
   "metadata": {},
   "outputs": [],
   "source": [
    "from pyspark import SparkContext, SparkConf"
   ]
  },
  {
   "cell_type": "code",
   "execution_count": 2,
   "id": "ebab63c3",
   "metadata": {},
   "outputs": [],
   "source": [
    "conf = SparkConf()\n"
   ]
  },
  {
   "cell_type": "code",
   "execution_count": 3,
   "id": "5ad04426",
   "metadata": {},
   "outputs": [
    {
     "name": "stderr",
     "output_type": "stream",
     "text": [
      "21/11/21 02:13:01 WARN NativeCodeLoader: Unable to load native-hadoop library for your platform... using builtin-java classes where applicable\n",
      "Using Spark's default log4j profile: org/apache/spark/log4j-defaults.properties\n",
      "Setting default log level to \"WARN\".\n",
      "To adjust logging level use sc.setLogLevel(newLevel). For SparkR, use setLogLevel(newLevel).\n",
      "21/11/21 02:13:04 WARN MacAddressUtil: Failed to find a usable hardware address from the network interfaces; using random bytes: 89:fd:15:ba:ca:b9:b7:5b\n"
     ]
    }
   ],
   "source": [
    "sc = SparkContext.getOrCreate(conf=conf)"
   ]
  },
  {
   "cell_type": "code",
   "execution_count": 4,
   "id": "79441b71",
   "metadata": {},
   "outputs": [],
   "source": [
    "wholefileRdd = sc.wholeTextFiles(\"./Data/*/*\")"
   ]
  },
  {
   "cell_type": "code",
   "execution_count": 5,
   "id": "15b832d3",
   "metadata": {},
   "outputs": [],
   "source": [
    "stop_word_list = ['they', 'she', 'he', 'it', 'the', 'as', 'is', 'and']"
   ]
  },
  {
   "cell_type": "code",
   "execution_count": 6,
   "id": "ae34f038",
   "metadata": {},
   "outputs": [],
   "source": [
    "res = wholefileRdd.flatMap(lambda row: [(row[0], word) for word in row[1].lower().split(\" \")]).map(lambda v: (v[1], v[0]))\\\n",
    ".filter(lambda v: v[0] not in stop_word_list).map(lambda v: (v, 1)).reduceByKey(lambda a,b:a+b).map(lambda v: (v[0][0], [(v[0][1], v[1])]))\\\n",
    ".reduceByKey(lambda a,b: a+b)"
   ]
  },
  {
   "cell_type": "code",
   "execution_count": 7,
   "id": "707f68d2",
   "metadata": {},
   "outputs": [
    {
     "name": "stderr",
     "output_type": "stream",
     "text": [
      "                                                                                \r"
     ]
    },
    {
     "data": {
      "text/plain": [
       "[('project',\n",
       "  [('file:/notebooks/hw5/Data/Hugo/Miserables.txt', 67),\n",
       "   ('file:/notebooks/hw5/Data/Tolstoy/anna_karenhina.txt', 65),\n",
       "   ('file:/notebooks/hw5/Data/shakespeare/comedies/tempest', 3),\n",
       "   ('file:/notebooks/hw5/Data/shakespeare/comedies/allswellthatendswell', 1),\n",
       "   ('file:/notebooks/hw5/Data/shakespeare/comedies/muchadoaboutnothing', 1),\n",
       "   ('file:/notebooks/hw5/Data/shakespeare/tragedies/antonyandcleopatra', 1),\n",
       "   ('file:/notebooks/hw5/Data/Hugo/NotreDame_De_Paris.txt', 66),\n",
       "   ('file:/notebooks/hw5/Data/Tolstoy/war_and_peace.txt', 69),\n",
       "   ('file:/notebooks/hw5/Data/shakespeare/histories/2kinghenryiv', 1)]),\n",
       " ('gutenberg',\n",
       "  [('file:/notebooks/hw5/Data/Hugo/Miserables.txt', 18),\n",
       "   ('file:/notebooks/hw5/Data/Tolstoy/anna_karenhina.txt', 18),\n",
       "   ('file:/notebooks/hw5/Data/Hugo/NotreDame_De_Paris.txt', 18),\n",
       "   ('file:/notebooks/hw5/Data/Tolstoy/war_and_peace.txt', 18)]),\n",
       " ('ebook',\n",
       "  [('file:/notebooks/hw5/Data/Hugo/Miserables.txt', 9),\n",
       "   ('file:/notebooks/hw5/Data/Tolstoy/anna_karenhina.txt', 9),\n",
       "   ('file:/notebooks/hw5/Data/Hugo/NotreDame_De_Paris.txt', 9),\n",
       "   ('file:/notebooks/hw5/Data/Tolstoy/war_and_peace.txt', 9)])]"
      ]
     },
     "execution_count": 7,
     "metadata": {},
     "output_type": "execute_result"
    }
   ],
   "source": [
    "res.take(3)"
   ]
  },
  {
   "cell_type": "code",
   "execution_count": 8,
   "id": "1de9289f",
   "metadata": {},
   "outputs": [
    {
     "name": "stderr",
     "output_type": "stream",
     "text": [
      "                                                                                \r"
     ]
    }
   ],
   "source": [
    "res.coalesce(1).saveAsTextFile('./output')"
   ]
  },
  {
   "cell_type": "code",
   "execution_count": null,
   "id": "f8b4479d",
   "metadata": {},
   "outputs": [],
   "source": []
  }
 ],
 "metadata": {
  "kernelspec": {
   "display_name": "Python 3 (ipykernel)",
   "language": "python",
   "name": "python3"
  },
  "language_info": {
   "codemirror_mode": {
    "name": "ipython",
    "version": 3
   },
   "file_extension": ".py",
   "mimetype": "text/x-python",
   "name": "python",
   "nbconvert_exporter": "python",
   "pygments_lexer": "ipython3",
   "version": "3.9.7"
  }
 },
 "nbformat": 4,
 "nbformat_minor": 5
}
